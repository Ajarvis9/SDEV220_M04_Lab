{
 "cells": [
  {
   "cell_type": "code",
   "execution_count": 21,
   "id": "1da4d292-67d6-4e34-ac55-66236c33755f",
   "metadata": {
    "scrolled": true
   },
   "outputs": [
    {
     "name": "stdout",
     "output_type": "stream",
     "text": [
      "Open 9-5 daily\n"
     ]
    }
   ],
   "source": [
    "# 11.1\n",
    "from zoo import hours\n",
    "\n",
    "hours()"
   ]
  },
  {
   "cell_type": "code",
   "execution_count": 24,
   "id": "e775b332-1e25-417e-b703-90dd5b6e82da",
   "metadata": {},
   "outputs": [
    {
     "name": "stdout",
     "output_type": "stream",
     "text": [
      "Open 9-5 daily\n"
     ]
    }
   ],
   "source": [
    "# 11.2\n",
    "import zoo as menagerie\n",
    "\n",
    "menagerie.hours()"
   ]
  },
  {
   "cell_type": "code",
   "execution_count": 33,
   "id": "18a9bdec-b4a2-4746-ba87-62cba154f29a",
   "metadata": {},
   "outputs": [],
   "source": [
    "# 16.8\n",
    "#to set up the database\n",
    "#import sqlite3\n",
    "#conn = sqlite3.connect('books.db')\n",
    "#curs = conn.cursor()\n",
    "\n",
    "#Creation of the table\n",
    "#curs.execute('''CREATE TABLE books\n",
    "#    (title VARCHAR(50) PRIMARY KEY,\n",
    "#     author VARCHAR(40),\n",
    "#     year INT)''')\n",
    "\n",
    "#data for the table books\n",
    "#ins = 'INSERT INTO books (title, author, year) VALUES(?, ?, ?)'\n",
    "#curs.execute(ins, ('The Weirdstone of Brisingamen', 'Alan Garner', 1960))\n",
    "\n",
    "#ins = 'INSERT INTO books (title, author, year) VALUES(?, ?, ?)'\n",
    "#curs.execute(ins, ('Perdido Street Station', 'China Miéville', 2000))\n",
    "\n",
    "#ins = 'INSERT INTO books (title, author, year) VALUES(?, ?, ?)'\n",
    "#curs.execute(ins, ('Thud!', 'Terry Pratchet', 2005))\n",
    "\n",
    "#ins = 'INSERT INTO books (title, author, year) VALUES(?, ?, ?)'\n",
    "#curs.execute(ins, ('The Spellman Files', 'Lisa Lutz', 2007))\n",
    "\n",
    "#ins = 'INSERT INTO books (title, author, year) VALUES(?, ?, ?)'\n",
    "#curs.execute(ins, ('Small Gods', 'Terry Pratchett', 1992))\n",
    "\n",
    "#testing to see if the insertion of data was successful\n",
    "#curs.execute('SELECT * FROM books')\n",
    "#rows = curs.fetchall()\n",
    "#print(rows)\n",
    "\n",
    "#connection.close()    "
   ]
  },
  {
   "cell_type": "code",
   "execution_count": null,
   "id": "63fb21cb-7b01-432f-a09a-35bff69910b6",
   "metadata": {
    "scrolled": true
   },
   "outputs": [],
   "source": [
    "# 16.8\n",
    "#for the actual homework problem 16.8 - I have ran into many errors since I could not get the inital table to function\n",
    "#like I wanted for testing purposes\n",
    "import sqlalchemy as sa\n",
    "from sqlalchemy.ext.declarative import declarative_base\n",
    "\n",
    "Base = declarative_base()\n",
    "\n",
    "#connection to the table in SQLite3\n",
    "engine = sa.create_engine('sqlite:///books.db')\n",
    "\n",
    "#table to use it to query \n",
    "class BooksTable(Base):\n",
    "    __books__ = 'bookNames'\n",
    "    title = sa.Column(sa.String(50), primary_key = True)\n",
    "    author = sa.Column(sa.String(50))\n",
    "    year = sa.Column(sa.Float)\n",
    "\n",
    "#fetching the columns\n",
    "query = sa.select([BooksTable.title])\n",
    "query = query.order_by([BooksTable.title])\n",
    "\n",
    "#gathing the data\n",
    "result = engine.execute(query).fetchall()\n",
    "\n",
    "#view results\n",
    "for record in result:\n",
    "    print(record[0])"
   ]
  },
  {
   "cell_type": "code",
   "execution_count": null,
   "id": "51c1b417-5275-4c02-b840-85a70a739732",
   "metadata": {},
   "outputs": [],
   "source": []
  }
 ],
 "metadata": {
  "kernelspec": {
   "display_name": "Python 3 (ipykernel)",
   "language": "python",
   "name": "python3"
  },
  "language_info": {
   "codemirror_mode": {
    "name": "ipython",
    "version": 3
   },
   "file_extension": ".py",
   "mimetype": "text/x-python",
   "name": "python",
   "nbconvert_exporter": "python",
   "pygments_lexer": "ipython3",
   "version": "3.12.4"
  }
 },
 "nbformat": 4,
 "nbformat_minor": 5
}
